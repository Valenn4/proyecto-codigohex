{
 "cells": [
  {
   "cell_type": "code",
   "execution_count": 1,
   "metadata": {},
   "outputs": [],
   "source": [
    "import spotipy\n",
    "from spotipy.oauth2 import SpotifyClientCredentials\n",
    "\n",
    "# Configurar credenciales\n",
    "client_id = 'abddca87d3af4dc78c952d412a8472ae'\n",
    "client_secret = '93f306d3463f49259b2f7078e2637963'\n",
    "\n",
    "client_credentials_manager = SpotifyClientCredentials(client_id=client_id, client_secret=client_secret)\n",
    "sp = spotipy.Spotify(client_credentials_manager=client_credentials_manager)\n"
   ]
  },
  {
   "cell_type": "code",
   "execution_count": 2,
   "metadata": {},
   "outputs": [
    {
     "name": "stdout",
     "output_type": "stream",
     "text": [
      "Nombre del artista: Bad Bunny\n",
      "Popularidad: 95\n",
      "Géneros musicales: ['reggaeton', 'trap latino', 'urbano latino']\n"
     ]
    }
   ],
   "source": [
    "# Ejemplo: buscar información de un artista\n",
    "\n",
    "artist_name = 'Bad Bunny'\n",
    "results = sp.search(q='artist:' + artist_name, type='artist')\n",
    "artist_info = results['artists']['items'][0]  # Obtiene el primer artista de la búsqueda\n",
    "\n",
    "print(\"Nombre del artista:\", artist_info['name'])\n",
    "print(\"Popularidad:\", artist_info['popularity'])\n",
    "print(\"Géneros musicales:\", artist_info['genres'])\n"
   ]
  },
  {
   "cell_type": "code",
   "execution_count": 3,
   "metadata": {},
   "outputs": [
    {
     "ename": "SpotifyException",
     "evalue": "http status: 400, code:-1 - Unsupported URL / URI., reason: None",
     "output_type": "error",
     "traceback": [
      "\u001b[1;31m---------------------------------------------------------------------------\u001b[0m",
      "\u001b[1;31mSpotifyException\u001b[0m                          Traceback (most recent call last)",
      "\u001b[1;32mc:\\Users\\mati\\Desktop\\proyecto-codigohex\\pruebas\\spotify.ipynb Cell 3\u001b[0m line \u001b[0;36m3\n\u001b[0;32m      <a href='vscode-notebook-cell:/c%3A/Users/mati/Desktop/proyecto-codigohex/pruebas/spotify.ipynb#W2sZmlsZQ%3D%3D?line=0'>1</a>\u001b[0m \u001b[39m# Ejemplo: obtener recomendaciones para un usuario basado en una lista de canciones\u001b[39;00m\n\u001b[0;32m      <a href='vscode-notebook-cell:/c%3A/Users/mati/Desktop/proyecto-codigohex/pruebas/spotify.ipynb#W2sZmlsZQ%3D%3D?line=1'>2</a>\u001b[0m seed_tracks \u001b[39m=\u001b[39m [\u001b[39m'\u001b[39m\u001b[39mtrack_id_1\u001b[39m\u001b[39m'\u001b[39m, \u001b[39m'\u001b[39m\u001b[39mtrack_id_2\u001b[39m\u001b[39m'\u001b[39m, \u001b[39m'\u001b[39m\u001b[39mtrack_id_3\u001b[39m\u001b[39m'\u001b[39m]\n\u001b[1;32m----> <a href='vscode-notebook-cell:/c%3A/Users/mati/Desktop/proyecto-codigohex/pruebas/spotify.ipynb#W2sZmlsZQ%3D%3D?line=2'>3</a>\u001b[0m recommendations \u001b[39m=\u001b[39m sp\u001b[39m.\u001b[39mrecommendations(seed_tracks\u001b[39m=\u001b[39mseed_tracks, limit\u001b[39m=\u001b[39m\u001b[39m10\u001b[39m)\n\u001b[0;32m      <a href='vscode-notebook-cell:/c%3A/Users/mati/Desktop/proyecto-codigohex/pruebas/spotify.ipynb#W2sZmlsZQ%3D%3D?line=4'>5</a>\u001b[0m \u001b[39mfor\u001b[39;00m track \u001b[39min\u001b[39;00m recommendations[\u001b[39m'\u001b[39m\u001b[39mtracks\u001b[39m\u001b[39m'\u001b[39m]:\n\u001b[0;32m      <a href='vscode-notebook-cell:/c%3A/Users/mati/Desktop/proyecto-codigohex/pruebas/spotify.ipynb#W2sZmlsZQ%3D%3D?line=5'>6</a>\u001b[0m     \u001b[39mprint\u001b[39m(\u001b[39m\"\u001b[39m\u001b[39mNombre de la canción:\u001b[39m\u001b[39m\"\u001b[39m, track[\u001b[39m'\u001b[39m\u001b[39mname\u001b[39m\u001b[39m'\u001b[39m])\n",
      "File \u001b[1;32mc:\\Users\\mati\\anaconda3\\Lib\\site-packages\\spotipy\\client.py:1687\u001b[0m, in \u001b[0;36mSpotify.recommendations\u001b[1;34m(self, seed_artists, seed_genres, seed_tracks, limit, country, **kwargs)\u001b[0m\n\u001b[0;32m   1684\u001b[0m     params[\u001b[39m\"\u001b[39m\u001b[39mseed_genres\u001b[39m\u001b[39m\"\u001b[39m] \u001b[39m=\u001b[39m \u001b[39m\"\u001b[39m\u001b[39m,\u001b[39m\u001b[39m\"\u001b[39m\u001b[39m.\u001b[39mjoin(seed_genres)\n\u001b[0;32m   1685\u001b[0m \u001b[39mif\u001b[39;00m seed_tracks:\n\u001b[0;32m   1686\u001b[0m     params[\u001b[39m\"\u001b[39m\u001b[39mseed_tracks\u001b[39m\u001b[39m\"\u001b[39m] \u001b[39m=\u001b[39m \u001b[39m\"\u001b[39m\u001b[39m,\u001b[39m\u001b[39m\"\u001b[39m\u001b[39m.\u001b[39mjoin(\n\u001b[1;32m-> 1687\u001b[0m         [\u001b[39mself\u001b[39m\u001b[39m.\u001b[39m_get_id(\u001b[39m\"\u001b[39m\u001b[39mtrack\u001b[39m\u001b[39m\"\u001b[39m, t) \u001b[39mfor\u001b[39;00m t \u001b[39min\u001b[39;00m seed_tracks]\n\u001b[0;32m   1688\u001b[0m     )\n\u001b[0;32m   1689\u001b[0m \u001b[39mif\u001b[39;00m country:\n\u001b[0;32m   1690\u001b[0m     params[\u001b[39m\"\u001b[39m\u001b[39mmarket\u001b[39m\u001b[39m\"\u001b[39m] \u001b[39m=\u001b[39m country\n",
      "File \u001b[1;32mc:\\Users\\mati\\anaconda3\\Lib\\site-packages\\spotipy\\client.py:1687\u001b[0m, in \u001b[0;36m<listcomp>\u001b[1;34m(.0)\u001b[0m\n\u001b[0;32m   1684\u001b[0m     params[\u001b[39m\"\u001b[39m\u001b[39mseed_genres\u001b[39m\u001b[39m\"\u001b[39m] \u001b[39m=\u001b[39m \u001b[39m\"\u001b[39m\u001b[39m,\u001b[39m\u001b[39m\"\u001b[39m\u001b[39m.\u001b[39mjoin(seed_genres)\n\u001b[0;32m   1685\u001b[0m \u001b[39mif\u001b[39;00m seed_tracks:\n\u001b[0;32m   1686\u001b[0m     params[\u001b[39m\"\u001b[39m\u001b[39mseed_tracks\u001b[39m\u001b[39m\"\u001b[39m] \u001b[39m=\u001b[39m \u001b[39m\"\u001b[39m\u001b[39m,\u001b[39m\u001b[39m\"\u001b[39m\u001b[39m.\u001b[39mjoin(\n\u001b[1;32m-> 1687\u001b[0m         [\u001b[39mself\u001b[39m\u001b[39m.\u001b[39m_get_id(\u001b[39m\"\u001b[39m\u001b[39mtrack\u001b[39m\u001b[39m\"\u001b[39m, t) \u001b[39mfor\u001b[39;00m t \u001b[39min\u001b[39;00m seed_tracks]\n\u001b[0;32m   1688\u001b[0m     )\n\u001b[0;32m   1689\u001b[0m \u001b[39mif\u001b[39;00m country:\n\u001b[0;32m   1690\u001b[0m     params[\u001b[39m\"\u001b[39m\u001b[39mmarket\u001b[39m\u001b[39m\"\u001b[39m] \u001b[39m=\u001b[39m country\n",
      "File \u001b[1;32mc:\\Users\\mati\\anaconda3\\Lib\\site-packages\\spotipy\\client.py:1990\u001b[0m, in \u001b[0;36mSpotify._get_id\u001b[1;34m(self, type, id)\u001b[0m\n\u001b[0;32m   1987\u001b[0m     \u001b[39mreturn\u001b[39;00m \u001b[39mid\u001b[39m\n\u001b[0;32m   1989\u001b[0m \u001b[39m# TODO change to a ValueError in v3\u001b[39;00m\n\u001b[1;32m-> 1990\u001b[0m \u001b[39mraise\u001b[39;00m SpotifyException(\u001b[39m400\u001b[39m, \u001b[39m-\u001b[39m\u001b[39m1\u001b[39m, \u001b[39m\"\u001b[39m\u001b[39mUnsupported URL / URI.\u001b[39m\u001b[39m\"\u001b[39m)\n",
      "\u001b[1;31mSpotifyException\u001b[0m: http status: 400, code:-1 - Unsupported URL / URI., reason: None"
     ]
    }
   ],
   "source": [
    "# Ejemplo: obtener recomendaciones para un usuario basado en una lista de canciones\n",
    "seed_tracks = ['track_id_1', 'track_id_2', 'track_id_3']\n",
    "recommendations = sp.recommendations(seed_tracks=seed_tracks, limit=10)\n",
    "\n",
    "for track in recommendations['tracks']:\n",
    "    print(\"Nombre de la canción:\", track['name'])\n",
    "    print(\"Artistas:\", [artist['name'] for artist in track['artists']])\n",
    "    print(\"Preview URL:\", track['preview_url'])\n",
    "    print()\n"
   ]
  },
  {
   "cell_type": "code",
   "execution_count": 1,
   "metadata": {},
   "outputs": [
    {
     "name": "stdout",
     "output_type": "stream",
     "text": [
      "Nombre del artista: Artist Vs Poet\n",
      "Popularidad: 41\n",
      "Géneros musicales: ['alternative pop rock', 'neon pop punk', 'pop emo', 'texas pop punk']\n"
     ]
    }
   ],
   "source": [
    "import spotipy\n",
    "from spotipy.oauth2 import SpotifyClientCredentials\n",
    "\n",
    "# Configurar credenciales\n",
    "client_id = 'abddca87d3af4dc78c952d412a8472ae'\n",
    "client_secret = '93f306d3463f49259b2f7078e2637963'\n",
    "\n",
    "client_credentials_manager = SpotifyClientCredentials(client_id=client_id, client_secret=client_secret)\n",
    "sp = spotipy.Spotify(client_credentials_manager=client_credentials_manager)\n",
    "\n",
    "# Buscar información de un artista\n",
    "name = input('nombre del artista')\n",
    "\n",
    "artist_name = name\n",
    "results = sp.search(q='artist:' + artist_name, type='artist')\n",
    "\n",
    "# Imprimir resultados\n",
    "if results['artists']['items']:\n",
    "    artist_info = results['artists']['items'][0]\n",
    "    print(\"Nombre del artista:\", artist_info['name'])\n",
    "    print(\"Popularidad:\", artist_info['popularity'])\n",
    "    print(\"Géneros musicales:\", artist_info['genres'])\n",
    "else:\n",
    "    print(\"No se encontró información para el artista:\", artist_name)\n"
   ]
  },
  {
   "cell_type": "code",
   "execution_count": null,
   "metadata": {},
   "outputs": [],
   "source": []
  }
 ],
 "metadata": {
  "kernelspec": {
   "display_name": "base",
   "language": "python",
   "name": "python3"
  },
  "language_info": {
   "codemirror_mode": {
    "name": "ipython",
    "version": 3
   },
   "file_extension": ".py",
   "mimetype": "text/x-python",
   "name": "python",
   "nbconvert_exporter": "python",
   "pygments_lexer": "ipython3",
   "version": "3.11.4"
  }
 },
 "nbformat": 4,
 "nbformat_minor": 2
}
